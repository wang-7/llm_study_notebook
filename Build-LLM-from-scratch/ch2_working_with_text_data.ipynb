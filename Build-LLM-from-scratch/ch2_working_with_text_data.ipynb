{
 "cells": [
  {
   "cell_type": "code",
   "execution_count": 10,
   "id": "b6371dc1",
   "metadata": {},
   "outputs": [
    {
     "name": "stdout",
     "output_type": "stream",
     "text": [
      "Total number of characters: 20479\n",
      "I HAD always thought Jack Gisburn rather a cheap genius--though a good fellow enough--so it was no g\n"
     ]
    }
   ],
   "source": [
    "text_path = 'sources/the-verdict.txt'\n",
    "with open(text_path, 'r', encoding='utf-8') as f:\n",
    "    raw_text = f.read()\n",
    "print('Total number of characters:', len(raw_text))\n",
    "print(raw_text[:100])"
   ]
  },
  {
   "cell_type": "code",
   "execution_count": 11,
   "id": "bdab5544",
   "metadata": {},
   "outputs": [
    {
     "name": "stdout",
     "output_type": "stream",
     "text": [
      "4690\n"
     ]
    }
   ],
   "source": [
    "import re\n",
    "# 匹配空格和各种符号\n",
    "preprocessed = re.split(r'([,.:;?_!\"()\\']|--|\\s)', raw_text)\n",
    "# 去掉空格\n",
    "preprocessed = [item.strip() for item in preprocessed if item.strip()]\n",
    "print(len(preprocessed))"
   ]
  },
  {
   "cell_type": "markdown",
   "id": "f1bca114",
   "metadata": {},
   "source": [
    "关于上面的代码，在tokenization过程中需不需要去掉空格，取决于具体的应用。\n",
    "对于普通文本，空格仅仅作为分割单词的符号，没有语义，则可以去掉以减少计算量。\n",
    "对于像python代码的文本，空格具有明确的语义（如缩进），则不能去掉。\n",
    "\n",
    "接下来需要将每个不重复的token组成单词表，并按顺序将每个token映射到一个token id。"
   ]
  },
  {
   "cell_type": "code",
   "execution_count": 12,
   "id": "95342c63",
   "metadata": {},
   "outputs": [
    {
     "name": "stdout",
     "output_type": "stream",
     "text": [
      "1130\n",
      "['!', '\"', \"'\", '(', ')', ',', '--', '.', ':', ';', '?', 'A', 'Ah', 'Among', 'And', 'Are', 'Arrt', 'As', 'At', 'Be']\n"
     ]
    }
   ],
   "source": [
    "all_words = sorted(set(preprocessed))\n",
    "vocab_size = len(all_words)\n",
    "print(vocab_size)\n",
    "print(all_words[:20])"
   ]
  },
  {
   "cell_type": "code",
   "execution_count": 13,
   "id": "b214c54c",
   "metadata": {},
   "outputs": [
    {
     "name": "stdout",
     "output_type": "stream",
     "text": [
      "('!', 0)\n",
      "('\"', 1)\n",
      "(\"'\", 2)\n",
      "('(', 3)\n",
      "(')', 4)\n",
      "(',', 5)\n",
      "('--', 6)\n",
      "('.', 7)\n",
      "(':', 8)\n",
      "(';', 9)\n",
      "('?', 10)\n",
      "('A', 11)\n",
      "('Ah', 12)\n",
      "('Among', 13)\n",
      "('And', 14)\n",
      "('Are', 15)\n",
      "('Arrt', 16)\n",
      "('As', 17)\n",
      "('At', 18)\n",
      "('Be', 19)\n",
      "('Begin', 20)\n",
      "('Burlington', 21)\n",
      "('But', 22)\n",
      "('By', 23)\n",
      "('Carlo', 24)\n",
      "('Chicago', 25)\n",
      "('Claude', 26)\n",
      "('Come', 27)\n",
      "('Croft', 28)\n",
      "('Destroyed', 29)\n",
      "('Devonshire', 30)\n",
      "('Don', 31)\n",
      "('Dubarry', 32)\n",
      "('Emperors', 33)\n",
      "('Florence', 34)\n",
      "('For', 35)\n",
      "('Gallery', 36)\n",
      "('Gideon', 37)\n",
      "('Gisburn', 38)\n",
      "('Gisburns', 39)\n",
      "('Grafton', 40)\n",
      "('Greek', 41)\n",
      "('Grindle', 42)\n",
      "('Grindles', 43)\n",
      "('HAD', 44)\n",
      "('Had', 45)\n",
      "('Hang', 46)\n",
      "('Has', 47)\n",
      "('He', 48)\n",
      "('Her', 49)\n",
      "('Hermia', 50)\n"
     ]
    }
   ],
   "source": [
    "vocab = {token:id for id, token in enumerate(all_words)}\n",
    "for i, item in enumerate(vocab.items()):\n",
    "    print(item)\n",
    "    if i >= 50:\n",
    "        break"
   ]
  },
  {
   "cell_type": "markdown",
   "id": "44ece020",
   "metadata": {},
   "source": [
    "将上述过程写成类"
   ]
  },
  {
   "cell_type": "code",
   "execution_count": 14,
   "id": "4f03725b",
   "metadata": {},
   "outputs": [],
   "source": [
    "class SimpleTokenizerV1:\n",
    "    def __init__(self, vocab):\n",
    "        self.str2id = vocab\n",
    "        self.id2str = {id:string for string, id in vocab.items()}\n",
    "    def encode(self, text):\n",
    "        # 匹配空格和各种符号\n",
    "        preprocessed = re.split(r'([,.:;?_!\"()\\']|--|\\s)', text)\n",
    "        # 去掉空格\n",
    "        preprocessed = [item.strip() for item in preprocessed if item.strip()]\n",
    "\n",
    "        ids = [self.str2id[item] for item in preprocessed]\n",
    "        return ids\n",
    "    def decode(self, ids):\n",
    "        text = ' '.join([self.id2str[i] for i in ids])\n",
    "\n",
    "        text = re.sub(r'\\s+([,.?!\"()\\'])', r'\\1', text)\n",
    "        return text"
   ]
  },
  {
   "cell_type": "code",
   "execution_count": 15,
   "id": "44f970d1",
   "metadata": {},
   "outputs": [
    {
     "name": "stdout",
     "output_type": "stream",
     "text": [
      "[1, 56, 2, 850, 988, 602, 533, 746, 5, 1126, 596, 5, 1, 67, 7, 38, 851, 1108, 754, 793, 7]\n",
      "\" It' s the last he painted, you know,\" Mrs. Gisburn said with pardonable pride.\n"
     ]
    }
   ],
   "source": [
    "tokenizer = SimpleTokenizerV1(vocab)\n",
    "text = \"\"\"\"It's the last he painted, you know,\" Mrs. Gisburn said with pardonable pride.\"\"\"\n",
    "ids = tokenizer.encode(text)\n",
    "print(ids)\n",
    "print(tokenizer.decode(ids))"
   ]
  },
  {
   "cell_type": "code",
   "execution_count": 16,
   "id": "82ae28f9",
   "metadata": {},
   "outputs": [
    {
     "name": "stdout",
     "output_type": "stream",
     "text": [
      "出错！'Hello' 不存在\n"
     ]
    }
   ],
   "source": [
    "text = \"Hello, do you like tea?\" \n",
    "try:\n",
    "    print(tokenizer.encode(text))\n",
    "except KeyError as e:\n",
    "    print(f'出错！{e} 不存在')"
   ]
  },
  {
   "cell_type": "markdown",
   "id": "671bb2a9",
   "metadata": {},
   "source": [
    "## 2.4 添加特殊文本token\n",
    "上面的tokenizer仅能处理vocab中包含的单词，当遇到Hello时会报错，因为vocab中没有这个词。下面为其添加能够处理未知词的token标记"
   ]
  },
  {
   "cell_type": "code",
   "execution_count": 17,
   "id": "1b8fb723",
   "metadata": {},
   "outputs": [
    {
     "name": "stdout",
     "output_type": "stream",
     "text": [
      "('younger', 1127)\n",
      "('your', 1128)\n",
      "('yourself', 1129)\n",
      "('<|endoftext|>', 1130)\n",
      "('<|unk|>', 1131)\n"
     ]
    }
   ],
   "source": [
    "class SimpleTokenizerV2:\n",
    "    def __init__(self, vocab):\n",
    "        self.str2id = vocab\n",
    "        self.id2str = {id:string for string, id in vocab.items()}\n",
    "    def encode(self, text):\n",
    "        # 匹配空格和各种符号\n",
    "        preprocessed = re.split(r'([,.:;?_!\"()\\']|--|\\s)', text)\n",
    "        # 去掉空格\n",
    "        preprocessed = [item.strip() for item in preprocessed if item.strip()]\n",
    "        #相比v1添加了未知字符的替代token <|unk|>\n",
    "        preprocessed = [item if item in self.str2id else '<|unk|>' for item in preprocessed]\n",
    "\n",
    "        ids = [self.str2id[item] for item in preprocessed]\n",
    "        return ids\n",
    "    def decode(self, ids):\n",
    "        text = ' '.join([self.id2str[i] for i in ids])\n",
    "\n",
    "        text = re.sub(r'\\s+([,.?!\"()\\'])', r'\\1', text)\n",
    "        return text\n",
    "    \n",
    "# 需要同时将新token添加到字典中\n",
    "vocab['<|endoftext|>'] = len(vocab)\n",
    "vocab['<|unk|>'] = len(vocab)\n",
    "\n",
    "for item in list(vocab.items())[-5:]:\n",
    "    print(item)"
   ]
  },
  {
   "cell_type": "code",
   "execution_count": 18,
   "id": "bfebcbb3",
   "metadata": {},
   "outputs": [
    {
     "name": "stdout",
     "output_type": "stream",
     "text": [
      "Hello, do you like tea? <|endoftext|> In the sunlit terraces of the palace.\n"
     ]
    }
   ],
   "source": [
    "# 创建一段新的包含两种新token的文本\n",
    "text1 = \"Hello, do you like tea?\"\n",
    "text2 = \"In the sunlit terraces of the palace.\" \n",
    "text = \" <|endoftext|> \".join((text1, text2))\n",
    "print(text)"
   ]
  },
  {
   "cell_type": "code",
   "execution_count": 19,
   "id": "63fedb03",
   "metadata": {},
   "outputs": [
    {
     "name": "stdout",
     "output_type": "stream",
     "text": [
      "[1131, 5, 355, 1126, 628, 975, 10, 1130, 55, 988, 956, 984, 722, 988, 1131, 7]\n",
      "<|unk|>, do you like tea? <|endoftext|> In the sunlit terraces of the <|unk|>.\n"
     ]
    }
   ],
   "source": [
    "tokenizerv2 = SimpleTokenizerV2(vocab)\n",
    "\n",
    "print(tokenizerv2.encode(text))\n",
    "print(tokenizerv2.decode(tokenizerv2.encode(text)))"
   ]
  },
  {
   "cell_type": "markdown",
   "id": "74e6ca45",
   "metadata": {},
   "source": [
    "## 2.5 字节对编码（BPE）\n",
    "上面使用的是简单的统计文本中的单词生成的字典，而在大模型中使用的是相对复杂的字节对编码。本节仅介绍如何调包，不涉及原理。\n",
    "\n",
    "首先需要安装tiktoken包\n",
    "```bash\n",
    "pip install tiktoken\n",
    "```"
   ]
  },
  {
   "cell_type": "code",
   "execution_count": 20,
   "id": "432f9cd2",
   "metadata": {},
   "outputs": [
    {
     "name": "stdout",
     "output_type": "stream",
     "text": [
      "tiktoken version: 0.11.0\n"
     ]
    }
   ],
   "source": [
    "from importlib.metadata import version\n",
    "import tiktoken\n",
    "\n",
    "print('tiktoken version:', version(\"tiktoken\"))"
   ]
  },
  {
   "cell_type": "code",
   "execution_count": 21,
   "id": "1b54da91",
   "metadata": {},
   "outputs": [
    {
     "name": "stdout",
     "output_type": "stream",
     "text": [
      "[15496, 11, 466, 345, 588, 8887, 30, 220, 50256, 554, 262, 4252, 18250, 8812, 2114, 1659, 617, 34680, 27271, 13]\n",
      "Hello, do you like tea? <|endoftext|> In the sunlit terracesof someunknownPlace.\n"
     ]
    }
   ],
   "source": [
    "tokenizer_bpe = tiktoken.get_encoding('gpt2')\n",
    "text = ( \"Hello, do you like tea? <|endoftext|> In the sunlit terraces\" \n",
    "        \"of someunknownPlace.\" \n",
    "        )\n",
    "ids = tokenizer_bpe.encode(text, allowed_special={'<|endoftext|>'})\n",
    "print(ids)\n",
    "text = tokenizer_bpe.decode(ids)\n",
    "print(text)"
   ]
  },
  {
   "cell_type": "markdown",
   "id": "a86cb37c",
   "metadata": {},
   "source": [
    "## 2.6 用滑动窗口对数据采样\n",
    "因为大模型实际上执行的是预测下一个词任务，所以采样的y（标签）就是将x（输入）右移一位。"
   ]
  },
  {
   "cell_type": "code",
   "execution_count": 22,
   "id": "ea9e4a10",
   "metadata": {},
   "outputs": [
    {
     "name": "stdout",
     "output_type": "stream",
     "text": [
      "5145\n"
     ]
    }
   ],
   "source": [
    "enc_text = tokenizer_bpe.encode(raw_text)\n",
    "print(len(enc_text))"
   ]
  },
  {
   "cell_type": "code",
   "execution_count": 23,
   "id": "534d87b1",
   "metadata": {},
   "outputs": [
    {
     "name": "stdout",
     "output_type": "stream",
     "text": [
      "x: [290, 4920, 2241, 287]\n",
      "y:      [4920, 2241, 287, 257]\n"
     ]
    }
   ],
   "source": [
    "enc_sample = enc_text[50:]\n",
    "context_size = 4\n",
    "x = enc_sample[:context_size]\n",
    "y = enc_sample[1:context_size+1]\n",
    "print(f\"x: {x}\")\n",
    "print(f\"y:      {y}\")"
   ]
  },
  {
   "cell_type": "code",
   "execution_count": 24,
   "id": "8cd09073",
   "metadata": {},
   "outputs": [],
   "source": [
    "# Implement above process in a Dataset Class\n",
    "import torch\n",
    "from torch.utils.data import Dataset, DataLoader\n",
    "\n",
    "class GPTDatasetV1(Dataset):\n",
    "    def __init__(self, text, tokenizer, max_length, stride):\n",
    "        self.input_ids = []\n",
    "        self.target_ids = []\n",
    "        # 此处记得调encode函数\n",
    "        text_enc = tokenizer.encode(text)\n",
    "        for i in range(0, len(text_enc) - max_length, stride):\n",
    "            input_chunk = text_enc[i:i+max_length]\n",
    "            target_chunk = text_enc[i+1:i+max_length+1]\n",
    "            self.input_ids.append(torch.tensor(input_chunk))\n",
    "            self.target_ids.append(torch.tensor(target_chunk))\n",
    "\n",
    "    def __len__(self):\n",
    "        return len(self.input_ids)\n",
    "\n",
    "    def __getitem__(self, index):\n",
    "        return self.input_ids[index], self.target_ids[index]"
   ]
  },
  {
   "cell_type": "code",
   "execution_count": 25,
   "id": "dc9b3e53",
   "metadata": {},
   "outputs": [
    {
     "name": "stdout",
     "output_type": "stream",
     "text": [
      "[tensor([[  40,  367, 2885, 1464]]), tensor([[ 367, 2885, 1464, 1807]])]\n"
     ]
    }
   ],
   "source": [
    "def create_dataloader_v1(text, batch_size=4,\n",
    "                          max_length=256,\n",
    "                            stride=128,\n",
    "                            shuffle=True,\n",
    "                            drop_last=True,\n",
    "                            num_workers=0):\n",
    "    tokenizer = tiktoken.get_encoding('gpt2')\n",
    "    dataset = GPTDatasetV1(text, tokenizer, max_length, stride)\n",
    "    # print(dataset[0])\n",
    "    dataloader = DataLoader(dataset, \n",
    "                            batch_size=batch_size, \n",
    "                            shuffle=shuffle, \n",
    "                            num_workers=num_workers, \n",
    "                            drop_last=drop_last)\n",
    "    \n",
    "    return dataloader\n",
    "\n",
    "dataloader = create_dataloader_v1(raw_text, batch_size=1, max_length=4, stride=1, shuffle=False)\n",
    "data_iter = iter(dataloader)\n",
    "first_batch = next(data_iter)\n",
    "print(first_batch)\n",
    "\n"
   ]
  },
  {
   "cell_type": "markdown",
   "id": "708adc69",
   "metadata": {},
   "source": [
    "## 2.7 生成token嵌入\n",
    "token embedding是指为每个token生成一个维度为embedding dim的向量来表示这个token，显然不同嵌入向量的数目等于词汇表的大小。"
   ]
  },
  {
   "cell_type": "code",
   "execution_count": 26,
   "id": "b815502d",
   "metadata": {},
   "outputs": [
    {
     "name": "stdout",
     "output_type": "stream",
     "text": [
      "Parameter containing:\n",
      "tensor([[ 1.9269,  1.4873, -0.4974],\n",
      "        [ 0.4396, -0.7581,  1.0783],\n",
      "        [ 0.8008,  1.6806,  0.3559],\n",
      "        [-0.6866,  0.6105,  1.3347],\n",
      "        [-0.2316,  0.0418, -0.2516],\n",
      "        [ 0.8599, -0.3097, -0.3957]], requires_grad=True)\n"
     ]
    }
   ],
   "source": [
    "# a small vocab_size just for show\n",
    "vocab_size = 6\n",
    "embed_dim = 3\n",
    "torch.manual_seed(42)\n",
    "embedding_layer = torch.nn.Embedding(vocab_size, embed_dim)\n",
    "print(embedding_layer.weight)"
   ]
  },
  {
   "cell_type": "markdown",
   "id": "e48a533a",
   "metadata": {},
   "source": [
    "### 关于torch.nn.Embedding\n",
    "其参数矩阵的shape为 embedding_num x embedding_dim。作用是将根据输入的数字返回相应序数的嵌入向量。也可以看作将输入数字转换为独热编码，然后与参数矩阵相乘。参见下面的代码"
   ]
  },
  {
   "cell_type": "code",
   "execution_count": null,
   "id": "bcf6866e",
   "metadata": {},
   "outputs": [
    {
     "name": "stdout",
     "output_type": "stream",
     "text": [
      "tensor([[ 0.4396, -0.7581,  1.0783]], grad_fn=<EmbeddingBackward0>)\n",
      "tensor([[ 0.8008,  1.6806,  0.3559],\n",
      "        [-0.6866,  0.6105,  1.3347],\n",
      "        [ 0.8599, -0.3097, -0.3957],\n",
      "        [ 0.4396, -0.7581,  1.0783]], grad_fn=<EmbeddingBackward0>)\n"
     ]
    }
   ],
   "source": [
    "# 观察其输出就是上面的参数矩阵的第二行。\n",
    "print(embedding_layer(torch.tensor([1])))\n",
    "# 假设有一个token序列\n",
    "input_ids = torch.tensor([2, 3, 5, 1])\n",
    "# 等价于一个[input_len, vacab_size]的独热编码矩阵乘以embedding_layer的参数矩阵\n",
    "print(embedding_layer(input_ids))"
   ]
  },
  {
   "cell_type": "markdown",
   "id": "32909376",
   "metadata": {},
   "source": [
    "## 2.8 编码单词位置\n",
    "编码分为绝对位置编码和相对位置编码，本节仿照ChatGPT采用的可学习的绝对位置编码。"
   ]
  },
  {
   "cell_type": "code",
   "execution_count": 37,
   "id": "bd1ba990",
   "metadata": {},
   "outputs": [
    {
     "name": "stdout",
     "output_type": "stream",
     "text": [
      "Token IDs: tensor([[   40,   367,  2885,  1464],\n",
      "        [ 1807,  3619,   402,   271],\n",
      "        [10899,  2138,   257,  7026],\n",
      "        [15632,   438,  2016,   257],\n",
      "        [  922,  5891,  1576,   438],\n",
      "        [  568,   340,   373,   645],\n",
      "        [ 1049,  5975,   284,   502],\n",
      "        [  284,  3285,   326,    11]])\n",
      "Data shape: torch.Size([8, 4])\n"
     ]
    }
   ],
   "source": [
    "# 首先用上面写的dataloader构造方法构造一个数据集\n",
    "context_length = 4\n",
    "dataloader = create_dataloader_v1(raw_text, batch_size=8, max_length=context_length, stride=4, shuffle=False)\n",
    "data_iter = iter(dataloader)\n",
    "inputs, targets = next(data_iter)\n",
    "\n",
    "print('Token IDs:', inputs)\n",
    "print('Data shape:', inputs.shape)\n"
   ]
  },
  {
   "cell_type": "code",
   "execution_count": 38,
   "id": "73da7288",
   "metadata": {},
   "outputs": [
    {
     "name": "stdout",
     "output_type": "stream",
     "text": [
      "torch.Size([8, 4, 256])\n"
     ]
    }
   ],
   "source": [
    "# 接下来需要知道我们使用的bpe tokenizer的vocab_size\n",
    "vocab_size = tokenizer_bpe.max_token_value + 1\n",
    "embed_dim = 256\n",
    "embedding_layer = torch.nn.Embedding(vocab_size, embed_dim)\n",
    "# 将数据嵌入\n",
    "input_embedding = embedding_layer(inputs)\n",
    "print(input_embedding.shape) # [batch_size, context_length, embedding_dim]"
   ]
  },
  {
   "cell_type": "markdown",
   "id": "3cd1055f",
   "metadata": {},
   "source": [
    "接下来构造位置编码。对于绝对位置编码，只需要对每个pos构造一个与上面相同维度的嵌入向量即可。"
   ]
  },
  {
   "cell_type": "code",
   "execution_count": null,
   "id": "b2c2f623",
   "metadata": {},
   "outputs": [
    {
     "name": "stdout",
     "output_type": "stream",
     "text": [
      "torch.Size([4, 256])\n"
     ]
    }
   ],
   "source": [
    "pos_embedding_layer = torch.nn.Embedding(context_length, embed_dim)\n",
    "pos_embedding = pos_embedding_layer(torch.arange(context_length))\n",
    "# 可以看到维度和上面的input一样\n",
    "print(pos_embedding.shape)"
   ]
  },
  {
   "cell_type": "code",
   "execution_count": null,
   "id": "144f7124",
   "metadata": {},
   "outputs": [],
   "source": [
    "# 将位置编码加入到输入中\n",
    "input_embedding += pos_embedding"
   ]
  }
 ],
 "metadata": {
  "kernelspec": {
   "display_name": "wqllm",
   "language": "python",
   "name": "python3"
  },
  "language_info": {
   "codemirror_mode": {
    "name": "ipython",
    "version": 3
   },
   "file_extension": ".py",
   "mimetype": "text/x-python",
   "name": "python",
   "nbconvert_exporter": "python",
   "pygments_lexer": "ipython3",
   "version": "3.10.18"
  }
 },
 "nbformat": 4,
 "nbformat_minor": 5
}
